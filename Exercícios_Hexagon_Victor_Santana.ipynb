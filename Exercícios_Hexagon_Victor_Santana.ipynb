{
  "nbformat": 4,
  "nbformat_minor": 0,
  "metadata": {
    "colab": {
      "name": "Exercícios-Hexagon-Victor_Santana.ipynb",
      "provenance": [],
      "collapsed_sections": [],
      "authorship_tag": "ABX9TyMgb7EXYuRkM1qf8xxYS3W4",
      "include_colab_link": true
    },
    "kernelspec": {
      "name": "python3",
      "display_name": "Python 3"
    }
  },
  "cells": [
    {
      "cell_type": "markdown",
      "metadata": {
        "id": "view-in-github",
        "colab_type": "text"
      },
      "source": [
        "<a href=\"https://colab.research.google.com/github/victorsantanaa/exerciciosHexagon/blob/main/Exerc%C3%ADcios_Hexagon_Victor_Santana.ipynb\" target=\"_parent\"><img src=\"https://colab.research.google.com/assets/colab-badge.svg\" alt=\"Open In Colab\"/></a>"
      ]
    },
    {
      "cell_type": "markdown",
      "metadata": {
        "id": "UBwJMsZNlgMc"
      },
      "source": [
        "# Exercícios propostos pela Hexagon.\n",
        "\n",
        "Feito por [Victor Santana](https://www.linkedin.com/in/victor-santana-ribeiro-2b2a48184/)."
      ]
    },
    {
      "cell_type": "markdown",
      "metadata": {
        "id": "4929CQQjVaVV"
      },
      "source": [
        "##Exercício 01\n",
        "Descreva um algoritmo (em pseudocódigo ou linguagem de programação de sua preferência) que resolva o problema [FizzBuzz](https://en.wikipedia.org/wiki/Fizz_buzz).\n",
        "\n",
        "O input do seu método/algoritmo será um vetor ***v*** de números de tamanho ***N***, sendo que **v[N] = N+1** e **N > 1**, e dois valores inteiros ***x*** e ***y***.\n",
        "\n",
        "Seu algoritmo deverá percorrer o vetor e imprimir **‘Fizz’** caso o valor na posição seja um múltiplo de ***x***, imprimir **‘Buzz’** caso o valor na posição seja um múltiplo de ***y***, imprimir **‘FizzBuzz’** caso o valor na posição seja um múltiplo de ***x*** e ***y*** e, por fim, imprimir o valor da\n",
        "posição caso não seja múltiplo nem de ***x*** e nem de ***y***.\n",
        "\n",
        "**Exemplo de entrada:**\n",
        "\n",
        "v = [1,2,3,4,5,6,7,8,9,10,11,12]\n",
        "\n",
        "N = 11\n",
        "\n",
        "x = 3\n",
        "\n",
        "y = 4\n",
        "\n",
        "**Saída esperada:**\n",
        "\n",
        "1, 2, ‘Fizz’,’Buzz’,5,’Fizz’, 7, ‘Buzz’, ‘Fizz’, 10, 11, ‘FizzBuzz’\n"
      ]
    },
    {
      "cell_type": "code",
      "metadata": {
        "id": "VQDFhvpLU-Ta",
        "outputId": "c3e73cc9-f765-46a8-fd2b-f2444f2f2876",
        "colab": {
          "base_uri": "https://localhost:8080/"
        }
      },
      "source": [
        "def defineBuzzFizz(buzz, fizz, number):\n",
        "  if number % buzz == 0 and number % fizz == 0:\n",
        "    return \"FizzBuzz\"\n",
        "  elif number % buzz == 0:\n",
        "    return \"Buzz\"\n",
        "  elif number % fizz == 0:\n",
        "    return \"Fizz\" \n",
        "  else:\n",
        "    return number\n",
        "\n",
        "tam = int(input('Entre com o tamanho do vetor: '))\n",
        "fizz_x = int(input('Entre com o valor de X: '))\n",
        "buzz_y = int(input('Entre com o valor de Y: '))\n",
        "\n",
        "vetor = []\n",
        "result = []\n",
        "aux = 0\n",
        "\n",
        "while aux <= tam:\n",
        "  aux += 1\n",
        "  vetor.append(aux)\n",
        "\n",
        "for count in range(tam + 1):\n",
        "  number = vetor[count]\n",
        "  result.append(defineBuzzFizz(buzz_y, fizz_x, number))\n",
        "\n",
        "result\n"
      ],
      "execution_count": 4,
      "outputs": [
        {
          "output_type": "stream",
          "text": [
            "Entre com o tamanho do vetor: 11\n",
            "Entre com o valor de X: 3\n",
            "Entre com o valor de Y: 4\n"
          ],
          "name": "stdout"
        },
        {
          "output_type": "execute_result",
          "data": {
            "text/plain": [
              "[1, 2, 'Fizz', 'Buzz', 5, 'Fizz', 7, 'Buzz', 'Fizz', 10, 11, 'FizzBuzz']"
            ]
          },
          "metadata": {
            "tags": []
          },
          "execution_count": 4
        }
      ]
    },
    {
      "cell_type": "markdown",
      "metadata": {
        "id": "yfaLZo96VZJG"
      },
      "source": [
        "##Exercício 02\n",
        "Descreva um algoritmo (em pseudocódigo ou linguagem de programação de sua preferência) que resolva o problema de imprimir o **N-ésimo** elemento de uma sequência de [Fibonacci](https://pt.wikipedia.org/wiki/Sequ%C3%AAncia_de_Fibonacci), em que um elemento **F(N)** é equivalente à soma de seus dois antecessores: **F(N) = F(N-1) + F(N-2)** \n",
        "\n",
        "Seu input será um valor **N >= 0**, e a saída esperada é o valor da sequência de Fibonacci na N-ésima posição.\n",
        "\n",
        "**Valores Iniciais:**\n",
        "\n",
        "F(0) = 0;\n",
        "\n",
        "F(1) = 1;\n",
        "\n",
        "**Exemplo de entrada:**\n",
        "\n",
        "N = 6\n",
        "\n",
        "**Saída esperada:**\n",
        "\n",
        "8\n"
      ]
    },
    {
      "cell_type": "code",
      "metadata": {
        "id": "HXVqQl_bVSVx",
        "outputId": "63b07deb-94d2-45ba-93c4-2bbefbcf1c73",
        "colab": {
          "base_uri": "https://localhost:8080/"
        }
      },
      "source": [
        "def fibonacci(num):\n",
        "  if num==1 or num==2:\n",
        "    return 1\n",
        "  return fibonacci(num-1) + fibonacci(num-2)\n",
        "\n",
        "number = int(input('Digite a N-ésima posição: '))\n",
        "\n",
        "result = fibonacci(number)\n",
        "\n",
        "print('O valor da posição {0} da sequência de Fibonacci é: {1}'.format(number, result))"
      ],
      "execution_count": 5,
      "outputs": [
        {
          "output_type": "stream",
          "text": [
            "Digite a N-ésima posição: 6\n",
            "O valor da posição 6 da sequência de Fibonacci é: 8\n"
          ],
          "name": "stdout"
        }
      ]
    }
  ]
}